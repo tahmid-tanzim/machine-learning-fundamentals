{
 "cells": [
  {
   "cell_type": "code",
   "execution_count": 7,
   "id": "0668629e-f135-4a79-8d39-12fda9b1781c",
   "metadata": {},
   "outputs": [
    {
     "name": "stdout",
     "output_type": "stream",
     "text": [
      "torch: v2.2.2\n",
      "pandas: v2.2.1\n",
      "numpy: v1.26.4\n"
     ]
    }
   ],
   "source": [
    "import torch\n",
    "import pandas as pd\n",
    "import numpy as np\n",
    "import matplotlib.pyplot as plt\n",
    "print(f\"torch: v{torch.__version__}\\npandas: v{pd.__version__}\\nnumpy: v{np.__version__}\")"
   ]
  },
  {
   "cell_type": "markdown",
   "id": "e2dee809-ee80-413d-ad8c-b8d0e00113b0",
   "metadata": {},
   "source": [
    "## Inroduction to Tensors\n",
    "\n",
    "### Creating Tensors\n",
    "\n",
    "https://pytorch.org/docs/stable/tensors.html\n",
    "\n",
    "![Scalar|Vector|Matrix|Tensor](images/svmt.png)"
   ]
  },
  {
   "cell_type": "code",
   "execution_count": 6,
   "id": "7e088f67-9441-4302-a209-6760bddc6886",
   "metadata": {},
   "outputs": [
    {
     "data": {
      "text/plain": [
       "tensor(7)"
      ]
     },
     "execution_count": 6,
     "metadata": {},
     "output_type": "execute_result"
    }
   ],
   "source": [
    "# Scalar\n",
    "scalar = torch.tensor(7)\n",
    "scalar"
   ]
  },
  {
   "cell_type": "code",
   "execution_count": 7,
   "id": "162dc08a-6fc0-4b30-a48d-cbcce112eae7",
   "metadata": {},
   "outputs": [
    {
     "data": {
      "text/plain": [
       "0"
      ]
     },
     "execution_count": 7,
     "metadata": {},
     "output_type": "execute_result"
    }
   ],
   "source": [
    "scalar.ndim"
   ]
  },
  {
   "cell_type": "code",
   "execution_count": 8,
   "id": "c03e6518-08f5-4f27-b1a1-27d87cd68350",
   "metadata": {},
   "outputs": [
    {
     "data": {
      "text/plain": [
       "7"
      ]
     },
     "execution_count": 8,
     "metadata": {},
     "output_type": "execute_result"
    }
   ],
   "source": [
    "scalar.item()"
   ]
  },
  {
   "cell_type": "code",
   "execution_count": 9,
   "id": "0dc76928-0264-44da-9d3c-46f1ff76c389",
   "metadata": {},
   "outputs": [
    {
     "data": {
      "text/plain": [
       "tensor([7, 7])"
      ]
     },
     "execution_count": 9,
     "metadata": {},
     "output_type": "execute_result"
    }
   ],
   "source": [
    "# Vector\n",
    "\n",
    "vector = torch.tensor([7,7])\n",
    "vector"
   ]
  },
  {
   "cell_type": "code",
   "execution_count": 10,
   "id": "231b5c96-6a19-4fb9-abd4-7342d175d688",
   "metadata": {},
   "outputs": [
    {
     "data": {
      "text/plain": [
       "1"
      ]
     },
     "execution_count": 10,
     "metadata": {},
     "output_type": "execute_result"
    }
   ],
   "source": [
    "vector.ndim"
   ]
  },
  {
   "cell_type": "code",
   "execution_count": null,
   "id": "2c356c0f-fed0-42b0-bbaf-ab780118290b",
   "metadata": {},
   "outputs": [],
   "source": []
  }
 ],
 "metadata": {
  "kernelspec": {
   "display_name": "Python 3 (ipykernel)",
   "language": "python",
   "name": "python3"
  },
  "language_info": {
   "codemirror_mode": {
    "name": "ipython",
    "version": 3
   },
   "file_extension": ".py",
   "mimetype": "text/x-python",
   "name": "python",
   "nbconvert_exporter": "python",
   "pygments_lexer": "ipython3",
   "version": "3.12.0"
  }
 },
 "nbformat": 4,
 "nbformat_minor": 5
}
