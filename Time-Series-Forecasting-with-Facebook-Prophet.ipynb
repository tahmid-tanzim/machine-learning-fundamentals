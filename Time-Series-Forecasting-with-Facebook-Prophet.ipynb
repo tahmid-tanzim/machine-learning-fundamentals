{
 "cells": [
  {
   "cell_type": "markdown",
   "id": "2621f030",
   "metadata": {},
   "source": [
    "# 1. Install & Import Dependency"
   ]
  },
  {
   "cell_type": "code",
   "execution_count": 42,
   "id": "1146168f",
   "metadata": {},
   "outputs": [],
   "source": [
    "import pandas as pd\n",
    "from prophet import Prophet"
   ]
  },
  {
   "cell_type": "markdown",
   "id": "0cc9aac4",
   "metadata": {},
   "source": [
    "# 2. Read Data & Process Dates"
   ]
  },
  {
   "cell_type": "code",
   "execution_count": 43,
   "id": "5e64fb96",
   "metadata": {},
   "outputs": [
    {
     "data": {
      "text/html": [
       "<div>\n",
       "<style scoped>\n",
       "    .dataframe tbody tr th:only-of-type {\n",
       "        vertical-align: middle;\n",
       "    }\n",
       "\n",
       "    .dataframe tbody tr th {\n",
       "        vertical-align: top;\n",
       "    }\n",
       "\n",
       "    .dataframe thead th {\n",
       "        text-align: right;\n",
       "    }\n",
       "</style>\n",
       "<table border=\"1\" class=\"dataframe\">\n",
       "  <thead>\n",
       "    <tr style=\"text-align: right;\">\n",
       "      <th></th>\n",
       "      <th>Time Date</th>\n",
       "      <th>Product</th>\n",
       "      <th>Store</th>\n",
       "      <th>Value</th>\n",
       "    </tr>\n",
       "  </thead>\n",
       "  <tbody>\n",
       "    <tr>\n",
       "      <th>0</th>\n",
       "      <td>1012018</td>\n",
       "      <td>2667437</td>\n",
       "      <td>QLD_CW_ST0203</td>\n",
       "      <td>2926.000</td>\n",
       "    </tr>\n",
       "    <tr>\n",
       "      <th>1</th>\n",
       "      <td>2012018</td>\n",
       "      <td>2667437</td>\n",
       "      <td>QLD_CW_ST0203</td>\n",
       "      <td>2687.531</td>\n",
       "    </tr>\n",
       "    <tr>\n",
       "      <th>2</th>\n",
       "      <td>3012018</td>\n",
       "      <td>2667437</td>\n",
       "      <td>QLD_CW_ST0203</td>\n",
       "      <td>2793.000</td>\n",
       "    </tr>\n",
       "    <tr>\n",
       "      <th>3</th>\n",
       "      <td>4012018</td>\n",
       "      <td>2667437</td>\n",
       "      <td>QLD_CW_ST0203</td>\n",
       "      <td>2394.000</td>\n",
       "    </tr>\n",
       "    <tr>\n",
       "      <th>4</th>\n",
       "      <td>5012018</td>\n",
       "      <td>2667437</td>\n",
       "      <td>QLD_CW_ST0203</td>\n",
       "      <td>2660.000</td>\n",
       "    </tr>\n",
       "  </tbody>\n",
       "</table>\n",
       "</div>"
      ],
      "text/plain": [
       "   Time Date  Product          Store     Value\n",
       "0    1012018  2667437  QLD_CW_ST0203  2926.000\n",
       "1    2012018  2667437  QLD_CW_ST0203  2687.531\n",
       "2    3012018  2667437  QLD_CW_ST0203  2793.000\n",
       "3    4012018  2667437  QLD_CW_ST0203  2394.000\n",
       "4    5012018  2667437  QLD_CW_ST0203  2660.000"
      ]
     },
     "execution_count": 43,
     "metadata": {},
     "output_type": "execute_result"
    }
   ],
   "source": [
    "df = pd.read_csv(\"data/sample-dataset.csv\")\n",
    "df.head()"
   ]
  },
  {
   "cell_type": "code",
   "execution_count": 44,
   "id": "ddf9e6fc",
   "metadata": {},
   "outputs": [
    {
     "data": {
      "text/html": [
       "<div>\n",
       "<style scoped>\n",
       "    .dataframe tbody tr th:only-of-type {\n",
       "        vertical-align: middle;\n",
       "    }\n",
       "\n",
       "    .dataframe tbody tr th {\n",
       "        vertical-align: top;\n",
       "    }\n",
       "\n",
       "    .dataframe thead th {\n",
       "        text-align: right;\n",
       "    }\n",
       "</style>\n",
       "<table border=\"1\" class=\"dataframe\">\n",
       "  <thead>\n",
       "    <tr style=\"text-align: right;\">\n",
       "      <th></th>\n",
       "      <th>Time Date</th>\n",
       "      <th>Product</th>\n",
       "      <th>Value</th>\n",
       "    </tr>\n",
       "  </thead>\n",
       "  <tbody>\n",
       "    <tr>\n",
       "      <th>count</th>\n",
       "      <td>1.080000e+03</td>\n",
       "      <td>1080.0</td>\n",
       "      <td>1080.000000</td>\n",
       "    </tr>\n",
       "    <tr>\n",
       "      <th>mean</th>\n",
       "      <td>1.567207e+07</td>\n",
       "      <td>2667437.0</td>\n",
       "      <td>4048.117478</td>\n",
       "    </tr>\n",
       "    <tr>\n",
       "      <th>std</th>\n",
       "      <td>8.791548e+06</td>\n",
       "      <td>0.0</td>\n",
       "      <td>1439.945783</td>\n",
       "    </tr>\n",
       "    <tr>\n",
       "      <th>min</th>\n",
       "      <td>1.012018e+06</td>\n",
       "      <td>2667437.0</td>\n",
       "      <td>2042.813500</td>\n",
       "    </tr>\n",
       "    <tr>\n",
       "      <th>25%</th>\n",
       "      <td>8.069518e+06</td>\n",
       "      <td>2667437.0</td>\n",
       "      <td>2632.498599</td>\n",
       "    </tr>\n",
       "    <tr>\n",
       "      <th>50%</th>\n",
       "      <td>1.556702e+07</td>\n",
       "      <td>2667437.0</td>\n",
       "      <td>4256.000000</td>\n",
       "    </tr>\n",
       "    <tr>\n",
       "      <th>75%</th>\n",
       "      <td>2.308452e+07</td>\n",
       "      <td>2667437.0</td>\n",
       "      <td>5288.248910</td>\n",
       "    </tr>\n",
       "    <tr>\n",
       "      <th>max</th>\n",
       "      <td>3.112202e+07</td>\n",
       "      <td>2667437.0</td>\n",
       "      <td>8147.739600</td>\n",
       "    </tr>\n",
       "  </tbody>\n",
       "</table>\n",
       "</div>"
      ],
      "text/plain": [
       "          Time Date    Product        Value\n",
       "count  1.080000e+03     1080.0  1080.000000\n",
       "mean   1.567207e+07  2667437.0  4048.117478\n",
       "std    8.791548e+06        0.0  1439.945783\n",
       "min    1.012018e+06  2667437.0  2042.813500\n",
       "25%    8.069518e+06  2667437.0  2632.498599\n",
       "50%    1.556702e+07  2667437.0  4256.000000\n",
       "75%    2.308452e+07  2667437.0  5288.248910\n",
       "max    3.112202e+07  2667437.0  8147.739600"
      ]
     },
     "execution_count": 44,
     "metadata": {},
     "output_type": "execute_result"
    }
   ],
   "source": [
    "df.describe()"
   ]
  },
  {
   "cell_type": "code",
   "execution_count": 45,
   "id": "a3bde4a8",
   "metadata": {},
   "outputs": [
    {
     "name": "stdout",
     "output_type": "stream",
     "text": [
      "[2667437]\n",
      "['QLD_CW_ST0203']\n"
     ]
    }
   ],
   "source": [
    "print(df['Product'].unique())\n",
    "print(df['Store'].unique())"
   ]
  },
  {
   "cell_type": "code",
   "execution_count": 46,
   "id": "b94f58f2",
   "metadata": {},
   "outputs": [
    {
     "data": {
      "text/plain": [
       "Time Date      int64\n",
       "Product        int64\n",
       "Store         object\n",
       "Value        float64\n",
       "dtype: object"
      ]
     },
     "execution_count": 46,
     "metadata": {},
     "output_type": "execute_result"
    }
   ],
   "source": [
    "df.dtypes"
   ]
  },
  {
   "cell_type": "code",
   "execution_count": 47,
   "id": "e532028f",
   "metadata": {},
   "outputs": [
    {
     "data": {
      "text/html": [
       "<div>\n",
       "<style scoped>\n",
       "    .dataframe tbody tr th:only-of-type {\n",
       "        vertical-align: middle;\n",
       "    }\n",
       "\n",
       "    .dataframe tbody tr th {\n",
       "        vertical-align: top;\n",
       "    }\n",
       "\n",
       "    .dataframe thead th {\n",
       "        text-align: right;\n",
       "    }\n",
       "</style>\n",
       "<table border=\"1\" class=\"dataframe\">\n",
       "  <thead>\n",
       "    <tr style=\"text-align: right;\">\n",
       "      <th></th>\n",
       "      <th>Time Date</th>\n",
       "      <th>Product</th>\n",
       "      <th>Store</th>\n",
       "      <th>Value</th>\n",
       "      <th>Year</th>\n",
       "      <th>Month</th>\n",
       "      <th>Day</th>\n",
       "      <th>ds</th>\n",
       "    </tr>\n",
       "  </thead>\n",
       "  <tbody>\n",
       "    <tr>\n",
       "      <th>0</th>\n",
       "      <td>1012018</td>\n",
       "      <td>2667437</td>\n",
       "      <td>QLD_CW_ST0203</td>\n",
       "      <td>2926.000</td>\n",
       "      <td>2018</td>\n",
       "      <td>01</td>\n",
       "      <td>1</td>\n",
       "      <td>2018-01-01</td>\n",
       "    </tr>\n",
       "    <tr>\n",
       "      <th>1</th>\n",
       "      <td>2012018</td>\n",
       "      <td>2667437</td>\n",
       "      <td>QLD_CW_ST0203</td>\n",
       "      <td>2687.531</td>\n",
       "      <td>2018</td>\n",
       "      <td>01</td>\n",
       "      <td>2</td>\n",
       "      <td>2018-01-02</td>\n",
       "    </tr>\n",
       "    <tr>\n",
       "      <th>2</th>\n",
       "      <td>3012018</td>\n",
       "      <td>2667437</td>\n",
       "      <td>QLD_CW_ST0203</td>\n",
       "      <td>2793.000</td>\n",
       "      <td>2018</td>\n",
       "      <td>01</td>\n",
       "      <td>3</td>\n",
       "      <td>2018-01-03</td>\n",
       "    </tr>\n",
       "    <tr>\n",
       "      <th>3</th>\n",
       "      <td>4012018</td>\n",
       "      <td>2667437</td>\n",
       "      <td>QLD_CW_ST0203</td>\n",
       "      <td>2394.000</td>\n",
       "      <td>2018</td>\n",
       "      <td>01</td>\n",
       "      <td>4</td>\n",
       "      <td>2018-01-04</td>\n",
       "    </tr>\n",
       "    <tr>\n",
       "      <th>4</th>\n",
       "      <td>5012018</td>\n",
       "      <td>2667437</td>\n",
       "      <td>QLD_CW_ST0203</td>\n",
       "      <td>2660.000</td>\n",
       "      <td>2018</td>\n",
       "      <td>01</td>\n",
       "      <td>5</td>\n",
       "      <td>2018-01-05</td>\n",
       "    </tr>\n",
       "  </tbody>\n",
       "</table>\n",
       "</div>"
      ],
      "text/plain": [
       "   Time Date  Product          Store     Value  Year Month Day         ds\n",
       "0    1012018  2667437  QLD_CW_ST0203  2926.000  2018    01   1 2018-01-01\n",
       "1    2012018  2667437  QLD_CW_ST0203  2687.531  2018    01   2 2018-01-02\n",
       "2    3012018  2667437  QLD_CW_ST0203  2793.000  2018    01   3 2018-01-03\n",
       "3    4012018  2667437  QLD_CW_ST0203  2394.000  2018    01   4 2018-01-04\n",
       "4    5012018  2667437  QLD_CW_ST0203  2660.000  2018    01   5 2018-01-05"
      ]
     },
     "execution_count": 47,
     "metadata": {},
     "output_type": "execute_result"
    }
   ],
   "source": [
    "df['Year'] = df['Time Date'].apply(lambda x: str(x)[-4:])\n",
    "df['Month'] = df['Time Date'].apply(lambda x: str(x)[-6:-4])\n",
    "df['Day'] = df['Time Date'].apply(lambda x: str(x)[:-6])\n",
    "df['ds'] = pd.DatetimeIndex(df['Year']+'-'+df['Month']+'-'+df['Day'])\n",
    "df.head()"
   ]
  },
  {
   "cell_type": "code",
   "execution_count": 48,
   "id": "0c10e192",
   "metadata": {},
   "outputs": [
    {
     "data": {
      "text/html": [
       "<div>\n",
       "<style scoped>\n",
       "    .dataframe tbody tr th:only-of-type {\n",
       "        vertical-align: middle;\n",
       "    }\n",
       "\n",
       "    .dataframe tbody tr th {\n",
       "        vertical-align: top;\n",
       "    }\n",
       "\n",
       "    .dataframe thead th {\n",
       "        text-align: right;\n",
       "    }\n",
       "</style>\n",
       "<table border=\"1\" class=\"dataframe\">\n",
       "  <thead>\n",
       "    <tr style=\"text-align: right;\">\n",
       "      <th></th>\n",
       "      <th>y</th>\n",
       "      <th>ds</th>\n",
       "    </tr>\n",
       "  </thead>\n",
       "  <tbody>\n",
       "    <tr>\n",
       "      <th>0</th>\n",
       "      <td>2926.000</td>\n",
       "      <td>2018-01-01</td>\n",
       "    </tr>\n",
       "    <tr>\n",
       "      <th>1</th>\n",
       "      <td>2687.531</td>\n",
       "      <td>2018-01-02</td>\n",
       "    </tr>\n",
       "    <tr>\n",
       "      <th>2</th>\n",
       "      <td>2793.000</td>\n",
       "      <td>2018-01-03</td>\n",
       "    </tr>\n",
       "    <tr>\n",
       "      <th>3</th>\n",
       "      <td>2394.000</td>\n",
       "      <td>2018-01-04</td>\n",
       "    </tr>\n",
       "    <tr>\n",
       "      <th>4</th>\n",
       "      <td>2660.000</td>\n",
       "      <td>2018-01-05</td>\n",
       "    </tr>\n",
       "  </tbody>\n",
       "</table>\n",
       "</div>"
      ],
      "text/plain": [
       "          y         ds\n",
       "0  2926.000 2018-01-01\n",
       "1  2687.531 2018-01-02\n",
       "2  2793.000 2018-01-03\n",
       "3  2394.000 2018-01-04\n",
       "4  2660.000 2018-01-05"
      ]
     },
     "execution_count": 48,
     "metadata": {},
     "output_type": "execute_result"
    }
   ],
   "source": [
    "df = df.loc[(df['Product']==2667437) & (df['Store']=='QLD_CW_ST0203')]\n",
    "df.drop(['Time Date', 'Product', 'Store', 'Year', 'Month', 'Day'], axis=1, inplace=True)\n",
    "df.columns = ['y', 'ds']\n",
    "df.head()"
   ]
  },
  {
   "cell_type": "markdown",
   "id": "51405644",
   "metadata": {},
   "source": [
    "# 3. Train Model"
   ]
  },
  {
   "cell_type": "code",
   "execution_count": 51,
   "id": "a5e9cad8",
   "metadata": {},
   "outputs": [
    {
     "name": "stderr",
     "output_type": "stream",
     "text": [
      "03:25:27 - cmdstanpy - INFO - Chain [1] start processing\n",
      "03:25:27 - cmdstanpy - INFO - Chain [1] done processing\n",
      "03:25:27 - cmdstanpy - ERROR - Chain [1] error: terminated by signal 6 Unknown error: -6\n",
      "Optimization terminated abnormally. Falling back to Newton.\n",
      "03:25:27 - cmdstanpy - INFO - Chain [1] start processing\n",
      "03:25:27 - cmdstanpy - INFO - Chain [1] done processing\n",
      "03:25:27 - cmdstanpy - ERROR - Chain [1] error: terminated by signal 6 Unknown error: -6\n"
     ]
    },
    {
     "ename": "RuntimeError",
     "evalue": "Error during optimization! Command '/Users/tahmidtanzimlupin/Projects/machine-learning-fundamentals/venv/lib/python3.11/site-packages/prophet/stan_model/prophet_model.bin random seed=6237 data file=/var/folders/6h/2mb0s91s04x1z8hzxkqr0t4c0000gn/T/tmpq69n1zn9/s13g24wx.json init=/var/folders/6h/2mb0s91s04x1z8hzxkqr0t4c0000gn/T/tmpq69n1zn9/i0n1_zp_.json output file=/var/folders/6h/2mb0s91s04x1z8hzxkqr0t4c0000gn/T/tmpq69n1zn9/prophet_modelo71w2726/prophet_model-20230413032527.csv method=optimize algorithm=newton iter=10000' failed: console log output:\n\ndyld[10237]: Library not loaded: @rpath/libtbb.dylib\n  Referenced from: <63752655-C858-3F88-9008-6E3714244B13> /Users/tahmidtanzimlupin/Projects/machine-learning-fundamentals/venv/lib/python3.11/site-packages/prophet/stan_model/prophet_model.bin\n  Reason: tried: '/private/var/folders/6h/2mb0s91s04x1z8hzxkqr0t4c0000gn/T/pip-install-8pkblz57/prophet_62f5c951c6a04806a9e8385934b78c7c/build/lib.macosx-12-arm64-cpython-311/prophet/stan_model/cmdstan-2.26.1/stan/lib/stan_math/lib/tbb/libtbb.dylib' (no such file), '/System/Volumes/Preboot/Cryptexes/OS/private/var/folders/6h/2mb0s91s04x1z8hzxkqr0t4c0000gn/T/pip-install-8pkblz57/prophet_62f5c951c6a04806a9e8385934b78c7c/build/lib.macosx-12-arm64-cpython-311/prophet/stan_model/cmdstan-2.26.1/stan/lib/stan_math/lib/tbb/libtbb.dylib' (no such file), '/private/var/folders/6h/2mb0s91s04x1z8hzxkqr0t4c0000gn/T/pip-install-8pkblz57/prophet_62f5c951c6a04806a9e8385934b78c7c/build/lib.macosx-12-arm64-cpython-311/prophet/stan_model/cmdstan-2.26.1/stan/lib/stan_math/lib/tbb/libtbb.dylib' (no such file), '/System/Volumes/Preboot/Cryptexes/OS/private/var/folders/6h/2mb0s91s04x1z8hzxkqr0t4c0000gn/T/pip-install-8pkblz57/prophet_62f5c951c6a04806a9e8385934b78c7c/build/lib.macosx-12-arm64-cpython-311/prophet/stan_model/cmdstan-2.26.1/stan/lib/stan_math/lib/tbb/libtbb.dylib' (no such file), '/System/Volumes/Preboot/Cryptexes/OS@rpath/libtbb.dylib' (no such file), '/private/var/folders/6h/2mb0s91s04x1z8hzxkqr0t4c0000gn/T/pip-install-8pkblz57/prophet_62f5c951c6a04806a9e8385934b78c7c/build/lib.macosx-12-arm64-cpython-311/prophet/stan_model/cmdstan-2.26.1/stan/lib/stan_math/lib/tbb/libtbb.dylib' (no such file), '/System/Volumes/Preboot/Cryptexes/OS/private/var/folders/6h/2mb0s91s04x1z8hzxkqr0t4c0000gn/T/pip-install-8pkblz57/prophet_62f5c951c6a04806a9e8385934b78c7c/build/lib.macosx-12-arm64-cpython-311/prophet/stan_model/cmdstan-2.26.1/stan/lib/stan_math/lib/tbb/libtbb.dylib' (no such file), '/private/var/folders/6h/2mb0s91s04x1z8hzxkqr0t4c0000gn/T/pip-install-8pkblz57/prophet_62f5c951c6a04806a9e8385934b78c7c/build/lib.macosx-12-arm64-cpython-311/prophet/stan_model/cmdstan-2.26.1/stan/lib/stan_math/lib/tbb/libtbb.dylib' (no such file), '/System/Volumes/Preboot/Cryptexes/OS/private/var/folders/6h/2mb0s91s04x1z8hzxkqr0t4c0000gn/T/pip-install-8pkblz57/prophet_62f5c951c6a04806a9e8385934b78c7c/build/lib.macosx-12-arm64-cpython-311/prophet/stan_model/cmdstan-2.26.1/stan/lib/stan_math/lib/tbb/libtbb.dylib' (no such file), '/usr/local/lib/libtbb.dylib' (no such file), '/usr/lib/libtbb.dylib' (no such file, not in dyld cache)\n",
     "output_type": "error",
     "traceback": [
      "\u001b[0;31m---------------------------------------------------------------------------\u001b[0m",
      "\u001b[0;31mRuntimeError\u001b[0m                              Traceback (most recent call last)",
      "File \u001b[0;32m~/Projects/machine-learning-fundamentals/venv/lib/python3.11/site-packages/prophet/models.py:96\u001b[0m, in \u001b[0;36mCmdStanPyBackend.fit\u001b[0;34m(self, stan_init, stan_data, **kwargs)\u001b[0m\n\u001b[1;32m     95\u001b[0m \u001b[38;5;28;01mtry\u001b[39;00m:\n\u001b[0;32m---> 96\u001b[0m     \u001b[38;5;28mself\u001b[39m\u001b[38;5;241m.\u001b[39mstan_fit \u001b[38;5;241m=\u001b[39m \u001b[38;5;28;43mself\u001b[39;49m\u001b[38;5;241;43m.\u001b[39;49m\u001b[43mmodel\u001b[49m\u001b[38;5;241;43m.\u001b[39;49m\u001b[43moptimize\u001b[49m\u001b[43m(\u001b[49m\u001b[38;5;241;43m*\u001b[39;49m\u001b[38;5;241;43m*\u001b[39;49m\u001b[43margs\u001b[49m\u001b[43m)\u001b[49m\n\u001b[1;32m     97\u001b[0m \u001b[38;5;28;01mexcept\u001b[39;00m \u001b[38;5;167;01mRuntimeError\u001b[39;00m \u001b[38;5;28;01mas\u001b[39;00m e:\n\u001b[1;32m     98\u001b[0m     \u001b[38;5;66;03m# Fall back on Newton\u001b[39;00m\n",
      "File \u001b[0;32m~/Projects/machine-learning-fundamentals/venv/lib/python3.11/site-packages/cmdstanpy/model.py:738\u001b[0m, in \u001b[0;36mCmdStanModel.optimize\u001b[0;34m(self, data, seed, inits, output_dir, sig_figs, save_profile, algorithm, init_alpha, tol_obj, tol_rel_obj, tol_grad, tol_rel_grad, tol_param, history_size, iter, save_iterations, require_converged, show_console, refresh, time_fmt, timeout)\u001b[0m\n\u001b[1;32m    737\u001b[0m     \u001b[38;5;28;01melse\u001b[39;00m:\n\u001b[0;32m--> 738\u001b[0m         \u001b[38;5;28;01mraise\u001b[39;00m \u001b[38;5;167;01mRuntimeError\u001b[39;00m(msg)\n\u001b[1;32m    739\u001b[0m mle \u001b[38;5;241m=\u001b[39m CmdStanMLE(runset)\n",
      "\u001b[0;31mRuntimeError\u001b[0m: Error during optimization! Command '/Users/tahmidtanzimlupin/Projects/machine-learning-fundamentals/venv/lib/python3.11/site-packages/prophet/stan_model/prophet_model.bin random seed=43738 data file=/var/folders/6h/2mb0s91s04x1z8hzxkqr0t4c0000gn/T/tmpq69n1zn9/hgod2xvf.json init=/var/folders/6h/2mb0s91s04x1z8hzxkqr0t4c0000gn/T/tmpq69n1zn9/eirwvmw4.json output file=/var/folders/6h/2mb0s91s04x1z8hzxkqr0t4c0000gn/T/tmpq69n1zn9/prophet_modelwl6esuz9/prophet_model-20230413032527.csv method=optimize algorithm=lbfgs iter=10000' failed: console log output:\n\ndyld[10236]: Library not loaded: @rpath/libtbb.dylib\n  Referenced from: <63752655-C858-3F88-9008-6E3714244B13> /Users/tahmidtanzimlupin/Projects/machine-learning-fundamentals/venv/lib/python3.11/site-packages/prophet/stan_model/prophet_model.bin\n  Reason: tried: '/private/var/folders/6h/2mb0s91s04x1z8hzxkqr0t4c0000gn/T/pip-install-8pkblz57/prophet_62f5c951c6a04806a9e8385934b78c7c/build/lib.macosx-12-arm64-cpython-311/prophet/stan_model/cmdstan-2.26.1/stan/lib/stan_math/lib/tbb/libtbb.dylib' (no such file), '/System/Volumes/Preboot/Cryptexes/OS/private/var/folders/6h/2mb0s91s04x1z8hzxkqr0t4c0000gn/T/pip-install-8pkblz57/prophet_62f5c951c6a04806a9e8385934b78c7c/build/lib.macosx-12-arm64-cpython-311/prophet/stan_model/cmdstan-2.26.1/stan/lib/stan_math/lib/tbb/libtbb.dylib' (no such file), '/private/var/folders/6h/2mb0s91s04x1z8hzxkqr0t4c0000gn/T/pip-install-8pkblz57/prophet_62f5c951c6a04806a9e8385934b78c7c/build/lib.macosx-12-arm64-cpython-311/prophet/stan_model/cmdstan-2.26.1/stan/lib/stan_math/lib/tbb/libtbb.dylib' (no such file), '/System/Volumes/Preboot/Cryptexes/OS/private/var/folders/6h/2mb0s91s04x1z8hzxkqr0t4c0000gn/T/pip-install-8pkblz57/prophet_62f5c951c6a04806a9e8385934b78c7c/build/lib.macosx-12-arm64-cpython-311/prophet/stan_model/cmdstan-2.26.1/stan/lib/stan_math/lib/tbb/libtbb.dylib' (no such file), '/System/Volumes/Preboot/Cryptexes/OS@rpath/libtbb.dylib' (no such file), '/private/var/folders/6h/2mb0s91s04x1z8hzxkqr0t4c0000gn/T/pip-install-8pkblz57/prophet_62f5c951c6a04806a9e8385934b78c7c/build/lib.macosx-12-arm64-cpython-311/prophet/stan_model/cmdstan-2.26.1/stan/lib/stan_math/lib/tbb/libtbb.dylib' (no such file), '/System/Volumes/Preboot/Cryptexes/OS/private/var/folders/6h/2mb0s91s04x1z8hzxkqr0t4c0000gn/T/pip-install-8pkblz57/prophet_62f5c951c6a04806a9e8385934b78c7c/build/lib.macosx-12-arm64-cpython-311/prophet/stan_model/cmdstan-2.26.1/stan/lib/stan_math/lib/tbb/libtbb.dylib' (no such file), '/private/var/folders/6h/2mb0s91s04x1z8hzxkqr0t4c0000gn/T/pip-install-8pkblz57/prophet_62f5c951c6a04806a9e8385934b78c7c/build/lib.macosx-12-arm64-cpython-311/prophet/stan_model/cmdstan-2.26.1/stan/lib/stan_math/lib/tbb/libtbb.dylib' (no such file), '/System/Volumes/Preboot/Cryptexes/OS/private/var/folders/6h/2mb0s91s04x1z8hzxkqr0t4c0000gn/T/pip-install-8pkblz57/prophet_62f5c951c6a04806a9e8385934b78c7c/build/lib.macosx-12-arm64-cpython-311/prophet/stan_model/cmdstan-2.26.1/stan/lib/stan_math/lib/tbb/libtbb.dylib' (no such file), '/usr/local/lib/libtbb.dylib' (no such file), '/usr/lib/libtbb.dylib' (no such file, not in dyld cache)\n",
      "\nDuring handling of the above exception, another exception occurred:\n",
      "\u001b[0;31mRuntimeError\u001b[0m                              Traceback (most recent call last)",
      "Cell \u001b[0;32mIn[51], line 2\u001b[0m\n\u001b[1;32m      1\u001b[0m m \u001b[38;5;241m=\u001b[39m Prophet()\n\u001b[0;32m----> 2\u001b[0m \u001b[43mm\u001b[49m\u001b[38;5;241;43m.\u001b[39;49m\u001b[43mfit\u001b[49m\u001b[43m(\u001b[49m\u001b[43mdf\u001b[49m\u001b[43m)\u001b[49m\n",
      "File \u001b[0;32m~/Projects/machine-learning-fundamentals/venv/lib/python3.11/site-packages/prophet/forecaster.py:1181\u001b[0m, in \u001b[0;36mProphet.fit\u001b[0;34m(self, df, **kwargs)\u001b[0m\n\u001b[1;32m   1179\u001b[0m     \u001b[38;5;28mself\u001b[39m\u001b[38;5;241m.\u001b[39mparams \u001b[38;5;241m=\u001b[39m \u001b[38;5;28mself\u001b[39m\u001b[38;5;241m.\u001b[39mstan_backend\u001b[38;5;241m.\u001b[39msampling(stan_init, dat, \u001b[38;5;28mself\u001b[39m\u001b[38;5;241m.\u001b[39mmcmc_samples, \u001b[38;5;241m*\u001b[39m\u001b[38;5;241m*\u001b[39mkwargs)\n\u001b[1;32m   1180\u001b[0m \u001b[38;5;28;01melse\u001b[39;00m:\n\u001b[0;32m-> 1181\u001b[0m     \u001b[38;5;28mself\u001b[39m\u001b[38;5;241m.\u001b[39mparams \u001b[38;5;241m=\u001b[39m \u001b[38;5;28;43mself\u001b[39;49m\u001b[38;5;241;43m.\u001b[39;49m\u001b[43mstan_backend\u001b[49m\u001b[38;5;241;43m.\u001b[39;49m\u001b[43mfit\u001b[49m\u001b[43m(\u001b[49m\u001b[43mstan_init\u001b[49m\u001b[43m,\u001b[49m\u001b[43m \u001b[49m\u001b[43mdat\u001b[49m\u001b[43m,\u001b[49m\u001b[43m \u001b[49m\u001b[38;5;241;43m*\u001b[39;49m\u001b[38;5;241;43m*\u001b[39;49m\u001b[43mkwargs\u001b[49m\u001b[43m)\u001b[49m\n\u001b[1;32m   1183\u001b[0m \u001b[38;5;28mself\u001b[39m\u001b[38;5;241m.\u001b[39mstan_fit \u001b[38;5;241m=\u001b[39m \u001b[38;5;28mself\u001b[39m\u001b[38;5;241m.\u001b[39mstan_backend\u001b[38;5;241m.\u001b[39mstan_fit\n\u001b[1;32m   1184\u001b[0m \u001b[38;5;66;03m# If no changepoints were requested, replace delta with 0s\u001b[39;00m\n",
      "File \u001b[0;32m~/Projects/machine-learning-fundamentals/venv/lib/python3.11/site-packages/prophet/models.py:103\u001b[0m, in \u001b[0;36mCmdStanPyBackend.fit\u001b[0;34m(self, stan_init, stan_data, **kwargs)\u001b[0m\n\u001b[1;32m    101\u001b[0m     logger\u001b[38;5;241m.\u001b[39mwarning(\u001b[38;5;124m'\u001b[39m\u001b[38;5;124mOptimization terminated abnormally. Falling back to Newton.\u001b[39m\u001b[38;5;124m'\u001b[39m)\n\u001b[1;32m    102\u001b[0m     args[\u001b[38;5;124m'\u001b[39m\u001b[38;5;124malgorithm\u001b[39m\u001b[38;5;124m'\u001b[39m] \u001b[38;5;241m=\u001b[39m \u001b[38;5;124m'\u001b[39m\u001b[38;5;124mNewton\u001b[39m\u001b[38;5;124m'\u001b[39m\n\u001b[0;32m--> 103\u001b[0m     \u001b[38;5;28mself\u001b[39m\u001b[38;5;241m.\u001b[39mstan_fit \u001b[38;5;241m=\u001b[39m \u001b[38;5;28;43mself\u001b[39;49m\u001b[38;5;241;43m.\u001b[39;49m\u001b[43mmodel\u001b[49m\u001b[38;5;241;43m.\u001b[39;49m\u001b[43moptimize\u001b[49m\u001b[43m(\u001b[49m\u001b[38;5;241;43m*\u001b[39;49m\u001b[38;5;241;43m*\u001b[39;49m\u001b[43margs\u001b[49m\u001b[43m)\u001b[49m\n\u001b[1;32m    104\u001b[0m params \u001b[38;5;241m=\u001b[39m \u001b[38;5;28mself\u001b[39m\u001b[38;5;241m.\u001b[39mstan_to_dict_numpy(\n\u001b[1;32m    105\u001b[0m     \u001b[38;5;28mself\u001b[39m\u001b[38;5;241m.\u001b[39mstan_fit\u001b[38;5;241m.\u001b[39mcolumn_names, \u001b[38;5;28mself\u001b[39m\u001b[38;5;241m.\u001b[39mstan_fit\u001b[38;5;241m.\u001b[39moptimized_params_np)\n\u001b[1;32m    106\u001b[0m \u001b[38;5;28;01mfor\u001b[39;00m par \u001b[38;5;129;01min\u001b[39;00m params:\n",
      "File \u001b[0;32m~/Projects/machine-learning-fundamentals/venv/lib/python3.11/site-packages/cmdstanpy/model.py:738\u001b[0m, in \u001b[0;36mCmdStanModel.optimize\u001b[0;34m(self, data, seed, inits, output_dir, sig_figs, save_profile, algorithm, init_alpha, tol_obj, tol_rel_obj, tol_grad, tol_rel_grad, tol_param, history_size, iter, save_iterations, require_converged, show_console, refresh, time_fmt, timeout)\u001b[0m\n\u001b[1;32m    736\u001b[0m         get_logger()\u001b[38;5;241m.\u001b[39mwarning(msg)\n\u001b[1;32m    737\u001b[0m     \u001b[38;5;28;01melse\u001b[39;00m:\n\u001b[0;32m--> 738\u001b[0m         \u001b[38;5;28;01mraise\u001b[39;00m \u001b[38;5;167;01mRuntimeError\u001b[39;00m(msg)\n\u001b[1;32m    739\u001b[0m mle \u001b[38;5;241m=\u001b[39m CmdStanMLE(runset)\n\u001b[1;32m    740\u001b[0m \u001b[38;5;28;01mreturn\u001b[39;00m mle\n",
      "\u001b[0;31mRuntimeError\u001b[0m: Error during optimization! Command '/Users/tahmidtanzimlupin/Projects/machine-learning-fundamentals/venv/lib/python3.11/site-packages/prophet/stan_model/prophet_model.bin random seed=6237 data file=/var/folders/6h/2mb0s91s04x1z8hzxkqr0t4c0000gn/T/tmpq69n1zn9/s13g24wx.json init=/var/folders/6h/2mb0s91s04x1z8hzxkqr0t4c0000gn/T/tmpq69n1zn9/i0n1_zp_.json output file=/var/folders/6h/2mb0s91s04x1z8hzxkqr0t4c0000gn/T/tmpq69n1zn9/prophet_modelo71w2726/prophet_model-20230413032527.csv method=optimize algorithm=newton iter=10000' failed: console log output:\n\ndyld[10237]: Library not loaded: @rpath/libtbb.dylib\n  Referenced from: <63752655-C858-3F88-9008-6E3714244B13> /Users/tahmidtanzimlupin/Projects/machine-learning-fundamentals/venv/lib/python3.11/site-packages/prophet/stan_model/prophet_model.bin\n  Reason: tried: '/private/var/folders/6h/2mb0s91s04x1z8hzxkqr0t4c0000gn/T/pip-install-8pkblz57/prophet_62f5c951c6a04806a9e8385934b78c7c/build/lib.macosx-12-arm64-cpython-311/prophet/stan_model/cmdstan-2.26.1/stan/lib/stan_math/lib/tbb/libtbb.dylib' (no such file), '/System/Volumes/Preboot/Cryptexes/OS/private/var/folders/6h/2mb0s91s04x1z8hzxkqr0t4c0000gn/T/pip-install-8pkblz57/prophet_62f5c951c6a04806a9e8385934b78c7c/build/lib.macosx-12-arm64-cpython-311/prophet/stan_model/cmdstan-2.26.1/stan/lib/stan_math/lib/tbb/libtbb.dylib' (no such file), '/private/var/folders/6h/2mb0s91s04x1z8hzxkqr0t4c0000gn/T/pip-install-8pkblz57/prophet_62f5c951c6a04806a9e8385934b78c7c/build/lib.macosx-12-arm64-cpython-311/prophet/stan_model/cmdstan-2.26.1/stan/lib/stan_math/lib/tbb/libtbb.dylib' (no such file), '/System/Volumes/Preboot/Cryptexes/OS/private/var/folders/6h/2mb0s91s04x1z8hzxkqr0t4c0000gn/T/pip-install-8pkblz57/prophet_62f5c951c6a04806a9e8385934b78c7c/build/lib.macosx-12-arm64-cpython-311/prophet/stan_model/cmdstan-2.26.1/stan/lib/stan_math/lib/tbb/libtbb.dylib' (no such file), '/System/Volumes/Preboot/Cryptexes/OS@rpath/libtbb.dylib' (no such file), '/private/var/folders/6h/2mb0s91s04x1z8hzxkqr0t4c0000gn/T/pip-install-8pkblz57/prophet_62f5c951c6a04806a9e8385934b78c7c/build/lib.macosx-12-arm64-cpython-311/prophet/stan_model/cmdstan-2.26.1/stan/lib/stan_math/lib/tbb/libtbb.dylib' (no such file), '/System/Volumes/Preboot/Cryptexes/OS/private/var/folders/6h/2mb0s91s04x1z8hzxkqr0t4c0000gn/T/pip-install-8pkblz57/prophet_62f5c951c6a04806a9e8385934b78c7c/build/lib.macosx-12-arm64-cpython-311/prophet/stan_model/cmdstan-2.26.1/stan/lib/stan_math/lib/tbb/libtbb.dylib' (no such file), '/private/var/folders/6h/2mb0s91s04x1z8hzxkqr0t4c0000gn/T/pip-install-8pkblz57/prophet_62f5c951c6a04806a9e8385934b78c7c/build/lib.macosx-12-arm64-cpython-311/prophet/stan_model/cmdstan-2.26.1/stan/lib/stan_math/lib/tbb/libtbb.dylib' (no such file), '/System/Volumes/Preboot/Cryptexes/OS/private/var/folders/6h/2mb0s91s04x1z8hzxkqr0t4c0000gn/T/pip-install-8pkblz57/prophet_62f5c951c6a04806a9e8385934b78c7c/build/lib.macosx-12-arm64-cpython-311/prophet/stan_model/cmdstan-2.26.1/stan/lib/stan_math/lib/tbb/libtbb.dylib' (no such file), '/usr/local/lib/libtbb.dylib' (no such file), '/usr/lib/libtbb.dylib' (no such file, not in dyld cache)\n"
     ]
    }
   ],
   "source": [
    "m = Prophet()\n",
    "m.fit(df)"
   ]
  },
  {
   "cell_type": "markdown",
   "id": "96b12f64",
   "metadata": {},
   "source": [
    "# 4. Forecast Away"
   ]
  },
  {
   "cell_type": "code",
   "execution_count": null,
   "id": "7e86a19e",
   "metadata": {},
   "outputs": [],
   "source": []
  }
 ],
 "metadata": {
  "kernelspec": {
   "display_name": "Python 3 (ipykernel)",
   "language": "python",
   "name": "python3"
  },
  "language_info": {
   "codemirror_mode": {
    "name": "ipython",
    "version": 3
   },
   "file_extension": ".py",
   "mimetype": "text/x-python",
   "name": "python",
   "nbconvert_exporter": "python",
   "pygments_lexer": "ipython3",
   "version": "3.11.2"
  }
 },
 "nbformat": 4,
 "nbformat_minor": 5
}
